{
 "cells": [
  {
   "cell_type": "code",
   "execution_count": 29,
   "id": "71ccff01",
   "metadata": {},
   "outputs": [],
   "source": [
    "import sys # for automation and parallelization: set manual to false when run by a launcher\n",
    "import json\n",
    "default = {'scenario': 'futur_express','training_folder':'../..'} # Default execution parameters\n",
    "manual, argv = (True, default) if 'ipykernel' in sys.argv[0] else (False, dict(default, **json.loads(sys.argv[1])))"
   ]
  },
  {
   "cell_type": "code",
   "execution_count": 30,
   "id": "99b5db61",
   "metadata": {},
   "outputs": [
    {
     "name": "stdout",
     "output_type": "stream",
     "text": [
      "num cores: 8\n"
     ]
    }
   ],
   "source": [
    "import os\n",
    "import time\n",
    "import geopandas as gpd\n",
    "import pandas as pd\n",
    "import numpy as np\n",
    "sys.path.insert(0, r'../../../quetzal') # Add path to quetzal\n",
    "from sklearn.neighbors import NearestNeighbors\n",
    "from numba import jit, njit\n",
    "import numba as nb\n",
    "from quetzal.model import stepmodel\n",
    "from shapely.geometry import LineString\n",
    "from quetzal.io.gtfs_reader.importer import get_epsg\n",
    "from quetzal.io import excel\n",
    "on_lambda = bool(os.environ.get('AWS_EXECUTION_ENV'))\n",
    "num_cores = nb.config.NUMBA_NUM_THREADS\n",
    "print('num cores:',num_cores)\n",
    "\n",
    "io_engine= 'pyogrio' if on_lambda else 'pyogrio' #or fiona"
   ]
  },
  {
   "cell_type": "code",
   "execution_count": 31,
   "id": "505c32e1",
   "metadata": {},
   "outputs": [
    {
     "name": "stdout",
     "output_type": "stream",
     "text": [
      "On Lambda :  False\n",
      "input folder:  ../../inputs/\n",
      "output folder:  ../../scenarios/futur_express/outputs/\n",
      "scen folder :  ../../scenarios/futur_express/inputs/\n",
      "model folder :  ../../scenarios/futur_express/model/\n"
     ]
    }
   ],
   "source": [
    "scenario = argv['scenario']\n",
    "\n",
    "\n",
    "on_lambda = bool(os.environ.get('AWS_EXECUTION_ENV'))\n",
    "print('On Lambda : ', on_lambda)\n",
    "\n",
    "training_folder = argv['training_folder']\n",
    "input_folder = training_folder +r'/inputs/'\n",
    "\n",
    "if not on_lambda:\n",
    "    scenario_folder = training_folder + '/scenarios/' + scenario + '/inputs/'\n",
    "    output_folder = training_folder + '/scenarios/' + scenario + '/outputs/'\n",
    "    model_folder = training_folder + '/scenarios/' + scenario + '/model/'\n",
    "else:\n",
    "    scenario_folder = input_folder\n",
    "    output_folder = training_folder + '/outputs/'\n",
    "    model_folder = training_folder + '/model/'\n",
    "print('input folder: ', input_folder)\n",
    "print('output folder: ', output_folder)\n",
    "print('scen folder : ', scenario_folder)\n",
    "print('model folder : ', model_folder)"
   ]
  },
  {
   "cell_type": "code",
   "execution_count": 32,
   "id": "3dcb24f6",
   "metadata": {},
   "outputs": [],
   "source": [
    "if 'params' in argv.keys():\n",
    "    var = excel.read_var(file=input_folder+'parameters.xlsx', scenario=scenario, return_ancestry=False)\n",
    "    var.update(pd.DataFrame.from_dict(argv['params'], orient=\"index\").stack())\n",
    "else:\n",
    "    var = excel.read_var(file=input_folder+'parameters.xlsx', scenario=scenario, return_ancestry=False)"
   ]
  },
  {
   "cell_type": "markdown",
   "id": "95a65cd0",
   "metadata": {},
   "source": [
    "# inputs"
   ]
  },
  {
   "cell_type": "code",
   "execution_count": 33,
   "id": "d25157cb",
   "metadata": {},
   "outputs": [
    {
     "name": "stderr",
     "output_type": "stream",
     "text": [
      "zones: 100%|██████████| 25/25 [00:00<00:00, 62.16it/s]     \n",
      "zones_before_clustering: 100%|██████████| 2/2 [00:00<00:00, 1272.74it/s]\n"
     ]
    }
   ],
   "source": [
    "sm = stepmodel.read_zippedpickles(model_folder + 'network')\n",
    "distribution = stepmodel.read_zippedpickles(model_folder + 'distribution')\n",
    "\n",
    "sm.volumes = distribution.volumes"
   ]
  },
  {
   "cell_type": "markdown",
   "id": "1d069eac",
   "metadata": {},
   "source": [
    "# od_set"
   ]
  },
  {
   "cell_type": "code",
   "execution_count": 34,
   "id": "a4df7a88",
   "metadata": {},
   "outputs": [],
   "source": [
    "v = sm.volumes.set_index(['origin', 'destination']).sum(axis=1)\n",
    "od_set = set(v.loc[v>0].index)"
   ]
  },
  {
   "cell_type": "code",
   "execution_count": 35,
   "id": "37cbb444",
   "metadata": {},
   "outputs": [],
   "source": [
    "cutoff = var[\"pathfinder\"][\"cutoff\"]"
   ]
  },
  {
   "cell_type": "code",
   "execution_count": 36,
   "id": "bc1e8a39",
   "metadata": {},
   "outputs": [
    {
     "name": "stdout",
     "output_type": "stream",
     "text": [
      "start publicpathfinder\n"
     ]
    },
    {
     "name": "stderr",
     "output_type": "stream",
     "text": [
      "route_id {'R12'}: 100%|██████████| 20/20 [00:00<00:00, 21.28it/s]\n",
      "route_type {'bus'}: 100%|██████████| 3/3 [00:00<00:00,  7.75it/s]               "
     ]
    },
    {
     "name": "stdout",
     "output_type": "stream",
     "text": [
      "path_analysis\n"
     ]
    },
    {
     "name": "stderr",
     "output_type": "stream",
     "text": [
      "\n"
     ]
    }
   ],
   "source": [
    "sm_fast= sm.copy()\n",
    "sm_fast.links['time'] = sm_fast.links['time']/3\n",
    "\n",
    "sm_fast.step_pt_pathfinder(\n",
    "    broken_routes=True,\n",
    "    broken_modes=True,\n",
    "    keep_pathfinder=True,\n",
    "    mode_column='route_type',\n",
    "    route_column='route_id',\n",
    "    walk_on_road=True,\n",
    "    path_analysis=False,\n",
    "    od_set=od_set,\n",
    "    cutoff=cutoff,\n",
    "    verbose=False,\n",
    ")\n",
    "sm_fast.pt_los['pathfinder_session']='fast_pt'\n",
    "#path finder a sm_fast(diviser vitesse par 3,5 ou 10 wtv)\n",
    "#concacenate sm_fast.pt_los a sm.pt_los\n",
    "#sm.analysis pt time va remettre les bons temps"
   ]
  },
  {
   "cell_type": "markdown",
   "id": "913245a8",
   "metadata": {},
   "source": [
    "# PT pathfinder"
   ]
  },
  {
   "cell_type": "code",
   "execution_count": 37,
   "id": "477cbc54",
   "metadata": {
    "scrolled": true
   },
   "outputs": [
    {
     "name": "stdout",
     "output_type": "stream",
     "text": [
      "start publicpathfinder\n"
     ]
    },
    {
     "name": "stderr",
     "output_type": "stream",
     "text": [
      "route_id {'R12'}: 100%|██████████| 20/20 [00:00<00:00, 20.79it/s]\n",
      "route_type {'bus'}: 100%|██████████| 3/3 [00:00<00:00,  7.73it/s]               "
     ]
    },
    {
     "name": "stdout",
     "output_type": "stream",
     "text": [
      "path_analysis\n"
     ]
    },
    {
     "name": "stderr",
     "output_type": "stream",
     "text": [
      "\n"
     ]
    }
   ],
   "source": [
    "\n",
    "sm.step_pt_pathfinder(\n",
    "    broken_routes=True,\n",
    "    broken_modes=True,\n",
    "    keep_pathfinder=True,\n",
    "    mode_column='route_type',\n",
    "    route_column='route_id',\n",
    "    walk_on_road=True,\n",
    "    path_analysis=False,\n",
    "    od_set=od_set,\n",
    "    cutoff=cutoff,\n",
    "    verbose=False,\n",
    ")\n",
    "ppf = sm.publicpathfinder"
   ]
  },
  {
   "cell_type": "code",
   "execution_count": 38,
   "id": "182fba59",
   "metadata": {},
   "outputs": [],
   "source": [
    "sm.pt_los = pd.concat([sm.pt_los, sm_fast.pt_los])"
   ]
  },
  {
   "cell_type": "code",
   "execution_count": 39,
   "id": "b2d8653f",
   "metadata": {},
   "outputs": [],
   "source": [
    "sm.road_links['time_ff'] = sm.road_links['length']/(sm.road_links['speed']*1000/3600)\n",
    "sm.step_road_pathfinder(method='aon', access_time='time',volume_column= 'car_owner',  time_column='time_ff', od_set=od_set,path_analysis=True )"
   ]
  },
  {
   "cell_type": "code",
   "execution_count": 40,
   "id": "9c553847",
   "metadata": {
    "scrolled": true
   },
   "outputs": [
    {
     "name": "stderr",
     "output_type": "stream",
     "text": [
      "path_analysis: 100%|██████████| 9620/9620 [00:00<00:00, 37249.01it/s]\n"
     ]
    }
   ],
   "source": [
    "sm.analysis_pt_los(walk_on_road=True)\n",
    "sm.analysis_pt_route_type(hierarchy=[ 'car', 'subway', 'tram','express_bus', 'bus','walk'])"
   ]
  },
  {
   "cell_type": "code",
   "execution_count": 41,
   "id": "4f932f73",
   "metadata": {},
   "outputs": [
    {
     "name": "stderr",
     "output_type": "stream",
     "text": [
      "car_los: 100%|██████████| 29/29 [00:00<00:00, 37.97it/s]      \n"
     ]
    }
   ],
   "source": [
    "sm.to_zippedpickles(model_folder +'los', omitted_attributes=['publicpathfinder'])"
   ]
  },
  {
   "cell_type": "code",
   "execution_count": 42,
   "id": "8424b7f5",
   "metadata": {},
   "outputs": [
    {
     "ename": "NameError",
     "evalue": "name 'end_of_notebook' is not defined",
     "output_type": "error",
     "traceback": [
      "\u001b[0;31m---------------------------------------------------------------------------\u001b[0m",
      "\u001b[0;31mNameError\u001b[0m                                 Traceback (most recent call last)",
      "Cell \u001b[0;32mIn[42], line 1\u001b[0m\n\u001b[0;32m----> 1\u001b[0m \u001b[43mend_of_notebook\u001b[49m\n",
      "\u001b[0;31mNameError\u001b[0m: name 'end_of_notebook' is not defined"
     ]
    }
   ],
   "source": [
    "end_of_notebook"
   ]
  }
 ],
 "metadata": {
  "kernelspec": {
   "display_name": "quetzal_env",
   "language": "python",
   "name": "quetzal_env"
  },
  "language_info": {
   "codemirror_mode": {
    "name": "ipython",
    "version": 3
   },
   "file_extension": ".py",
   "mimetype": "text/x-python",
   "name": "python",
   "nbconvert_exporter": "python",
   "pygments_lexer": "ipython3",
   "version": "3.8.19"
  }
 },
 "nbformat": 4,
 "nbformat_minor": 5
}
