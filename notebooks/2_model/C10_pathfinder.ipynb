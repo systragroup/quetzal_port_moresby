{
 "cells": [
  {
   "cell_type": "code",
   "execution_count": 207,
   "id": "71ccff01",
   "metadata": {},
   "outputs": [],
   "source": [
    "import sys # for automation and parallelization: set manual to false when run by a launcher\n",
    "import json\n",
    "default = {'scenario': 'base','training_folder':'../..'} # Default execution parameters\n",
    "manual, argv = (True, default) if 'ipykernel' in sys.argv[0] else (False, dict(default, **json.loads(sys.argv[1])))"
   ]
  },
  {
   "cell_type": "code",
   "execution_count": 208,
   "id": "99b5db61",
   "metadata": {},
   "outputs": [
    {
     "name": "stdout",
     "output_type": "stream",
     "text": [
      "num cores: 8\n"
     ]
    }
   ],
   "source": [
    "import os\n",
    "import time\n",
    "import geopandas as gpd\n",
    "import pandas as pd\n",
    "import numpy as np\n",
    "sys.path.insert(0, r'../../../quetzal') # Add path to quetzal\n",
    "from sklearn.neighbors import NearestNeighbors\n",
    "from numba import jit, njit\n",
    "import numba as nb\n",
    "from quetzal.model import stepmodel\n",
    "from shapely.geometry import LineString\n",
    "from quetzal.io.gtfs_reader.importer import get_epsg\n",
    "from quetzal.io import excel\n",
    "on_lambda = bool(os.environ.get('AWS_EXECUTION_ENV'))\n",
    "num_cores = nb.config.NUMBA_NUM_THREADS\n",
    "print('num cores:',num_cores)\n",
    "\n",
    "io_engine= 'pyogrio' if on_lambda else 'pyogrio' #or fiona"
   ]
  },
  {
   "cell_type": "code",
   "execution_count": 209,
   "id": "505c32e1",
   "metadata": {},
   "outputs": [
    {
     "name": "stdout",
     "output_type": "stream",
     "text": [
      "On Lambda :  False\n",
      "input folder:  ../../inputs/\n",
      "output folder:  ../../scenarios/base/outputs/\n",
      "scen folder :  ../../scenarios/base/inputs/\n",
      "model folder :  ../../scenarios/base/model/\n"
     ]
    }
   ],
   "source": [
    "scenario = argv['scenario']\n",
    "\n",
    "\n",
    "on_lambda = bool(os.environ.get('AWS_EXECUTION_ENV'))\n",
    "print('On Lambda : ', on_lambda)\n",
    "\n",
    "training_folder = argv['training_folder']\n",
    "input_folder = training_folder +r'/inputs/'\n",
    "\n",
    "if not on_lambda:\n",
    "    scenario_folder = training_folder + '/scenarios/' + scenario + '/inputs/'\n",
    "    output_folder = training_folder + '/scenarios/' + scenario + '/outputs/'\n",
    "    model_folder = training_folder + '/scenarios/' + scenario + '/model/'\n",
    "else:\n",
    "    scenario_folder = input_folder\n",
    "    output_folder = training_folder + '/outputs/'\n",
    "    model_folder = training_folder + '/model/'\n",
    "print('input folder: ', input_folder)\n",
    "print('output folder: ', output_folder)\n",
    "print('scen folder : ', scenario_folder)\n",
    "print('model folder : ', model_folder)"
   ]
  },
  {
   "cell_type": "code",
   "execution_count": 210,
   "id": "3dcb24f6",
   "metadata": {},
   "outputs": [],
   "source": [
    "if 'params' in argv.keys():\n",
    "    var = excel.read_var(file=input_folder+'parameters.xlsx', scenario=scenario, return_ancestry=False)\n",
    "    var.update(pd.DataFrame.from_dict(argv['params'], orient=\"index\").stack())\n",
    "else:\n",
    "    var = excel.read_var(file=input_folder+'parameters.xlsx', scenario=scenario, return_ancestry=False)"
   ]
  },
  {
   "cell_type": "markdown",
   "id": "95a65cd0",
   "metadata": {},
   "source": [
    "# inputs"
   ]
  },
  {
   "cell_type": "code",
   "execution_count": 211,
   "id": "d25157cb",
   "metadata": {},
   "outputs": [
    {
     "name": "stderr",
     "output_type": "stream",
     "text": [
      "zones: 100%|██████████| 25/25 [00:00<00:00, 115.41it/s]    \n",
      "zones_before_clustering: 100%|██████████| 2/2 [00:00<00:00, 1296.34it/s]\n"
     ]
    }
   ],
   "source": [
    "sm = stepmodel.read_zippedpickles(model_folder + 'network')\n",
    "distribution = stepmodel.read_zippedpickles(model_folder + 'distribution')\n",
    "\n",
    "sm.volumes = distribution.volumes"
   ]
  },
  {
   "cell_type": "markdown",
   "id": "1d069eac",
   "metadata": {},
   "source": [
    "# od_set"
   ]
  },
  {
   "cell_type": "code",
   "execution_count": 212,
   "id": "a4df7a88",
   "metadata": {},
   "outputs": [],
   "source": [
    "v = sm.volumes.set_index(['origin', 'destination']).sum(axis=1)\n",
    "od_set = set(v.loc[v>0].index)"
   ]
  },
  {
   "cell_type": "code",
   "execution_count": 213,
   "id": "37cbb444",
   "metadata": {},
   "outputs": [],
   "source": [
    "cutoff = var[\"pathfinder\"][\"cutoff\"]"
   ]
  },
  {
   "cell_type": "code",
   "execution_count": 214,
   "id": "dbed334f",
   "metadata": {},
   "outputs": [
    {
     "data": {
      "text/plain": [
       "50000"
      ]
     },
     "execution_count": 214,
     "metadata": {},
     "output_type": "execute_result"
    }
   ],
   "source": [
    "cutoff"
   ]
  },
  {
   "cell_type": "code",
   "execution_count": 215,
   "id": "f477c6a2",
   "metadata": {},
   "outputs": [
    {
     "name": "stdout",
     "output_type": "stream",
     "text": [
      "Help on method step_pt_pathfinder in module quetzal.model.transportmodel:\n",
      "\n",
      "step_pt_pathfinder(broken_routes=True, broken_modes=True, route_column='route_id', mode_column='route_type', boarding_time=None, speedup=False, walk_on_road=False, keep_pathfinder=False, force=False, path_analysis=True, **kwargs) method of quetzal.model.stepmodel.StepModel instance\n",
      "    Performs public transport pathfinder.\n",
      "    \n",
      "    With :\n",
      "        - all or nothing Diskjstra algorithm if broken_routes=False AND broken_modes=False\n",
      "        - Prunning algorithm if broken_routes=True OR/AND broken_modes=True\n",
      "    For optimal strategy pathfinder, use step_pt_pathfinder of the class OptimalModel\n",
      "    \n",
      "    For connection scan pathfinder algorithm (with time tables), use step_pt_pathfinder of the class ConnectionScanModel.\n",
      "    \n",
      "    Requires\n",
      "    ----------\n",
      "    self.zones\n",
      "    self.links\n",
      "    self.footpaths\n",
      "    self.zone_to_road\n",
      "    self.zone_to_transit\n",
      "    \n",
      "    Parameters\n",
      "    ----------\n",
      "    broken_routes : bool, optional, default True\n",
      "        If True, will perform the route breaker of the pathfinder prunning algorithm\n",
      "        with the different routes found in the route_column \n",
      "    \n",
      "    broken_modes : bool, optional, default True\n",
      "        If True, will perform the mode breaker of the pathfinder prunning algorithm\n",
      "        with the different modes found in the mode_column\n",
      "    \n",
      "    route_column : str, optional, default 'route_id'\n",
      "        columns of the self.links containing the routes identifier (prunning algorithm)\n",
      "    \n",
      "    mode_column : str, optional, default 'route_type'\n",
      "        columns of the self.links containing the modes identifier (prunning algorithm)\n",
      "    \n",
      "    boarding_time : float, optional, default None\n",
      "        aditional boarding time \n",
      "    \n",
      "    alighting_time : float, optional, default None\n",
      "        aditional alighting time \n",
      "    \n",
      "    speedup : bool, optional, default False\n",
      "        Speed up the computation time, by \n",
      "    \n",
      "    walk_on_road : bool, optional, default False\n",
      "        If True, will consider using the road network and zone_to_road for pedestrian paths.\n",
      "        Warning : it will only compare those paths using the raod network with the paths using pedestrian links (footpaths, zone_to_transit) \n",
      "        Force the use of road network for pedestrian paths by NOT defining footpaths and zone_to_transit\n",
      "    \n",
      "    keep_pathfinder : bool, optional, default False\n",
      "        If True, keeps all computation steps of the pathfinder\n",
      "        Use to performed advanced route and mode breaker (without the need to create submodel for route_breaker, for example) \n",
      "    \n",
      "    force : bool, optional, default False\n",
      "        If True, will NOT perform integrity_test_collision on the 'nodes', 'links', 'zones','road_nodes', 'road_links'.\n",
      "    \n",
      "    path_analysis : bool, optional, default True\n",
      "        Performs paths analysis, adds columns 'all_walk' and 'ntransfers' to the output pt_los\n",
      "    \n",
      "    \n",
      "    Builds\n",
      "    ----------\n",
      "    self.pt_los :\n",
      "\n"
     ]
    }
   ],
   "source": [
    "help(sm.step_pt_pathfinder)"
   ]
  },
  {
   "cell_type": "code",
   "execution_count": 216,
   "id": "bc1e8a39",
   "metadata": {},
   "outputs": [
    {
     "name": "stdout",
     "output_type": "stream",
     "text": [
      "start publicpathfinder\n"
     ]
    },
    {
     "name": "stderr",
     "output_type": "stream",
     "text": [
      "route_id {'R19'}: 100%|██████████| 19/19 [00:01<00:00, 18.22it/s]\n",
      "route_type {'bus'}: 100%|██████████| 1/1 [00:00<00:00,  8.78it/s]\n"
     ]
    },
    {
     "name": "stdout",
     "output_type": "stream",
     "text": [
      "path_analysis\n"
     ]
    }
   ],
   "source": [
    "sm_fast= sm.copy()\n",
    "sm_fast.links['time'] = sm_fast.links['time']/3\n",
    "\n",
    "sm_fast.step_pt_pathfinder(\n",
    "    broken_routes=True,\n",
    "    broken_modes=True,\n",
    "    keep_pathfinder=True,\n",
    "    mode_column='route_type',\n",
    "    route_column='route_id',\n",
    "    walk_on_road=True,\n",
    "    path_analysis=False,\n",
    "    od_set=od_set,\n",
    "    cutoff=cutoff,\n",
    "    verbose=False,\n",
    ")\n",
    "sm_fast.pt_los['pathfinder_session']='fast_pt'\n",
    "#path finder a sm_fast(diviser vitesse par 3,5 ou 10 wtv)\n",
    "#concacenate sm_fast.pt_los a sm.pt_los\n",
    "#sm.analysis pt time va remettre les bons temps"
   ]
  },
  {
   "cell_type": "markdown",
   "id": "913245a8",
   "metadata": {},
   "source": [
    "# PT pathfinder"
   ]
  },
  {
   "cell_type": "code",
   "execution_count": 217,
   "id": "477cbc54",
   "metadata": {
    "scrolled": true
   },
   "outputs": [
    {
     "name": "stdout",
     "output_type": "stream",
     "text": [
      "start publicpathfinder\n"
     ]
    },
    {
     "name": "stderr",
     "output_type": "stream",
     "text": [
      "route_id {'R19'}: 100%|██████████| 19/19 [00:01<00:00, 17.47it/s]\n",
      "route_type {'bus'}: 100%|██████████| 1/1 [00:00<00:00,  8.89it/s]\n"
     ]
    },
    {
     "name": "stdout",
     "output_type": "stream",
     "text": [
      "path_analysis\n"
     ]
    }
   ],
   "source": [
    "\n",
    "sm.step_pt_pathfinder(\n",
    "    broken_routes=True,\n",
    "    broken_modes=True,\n",
    "    keep_pathfinder=True,\n",
    "    mode_column='route_type',\n",
    "    route_column='route_id',\n",
    "    walk_on_road=True,\n",
    "    path_analysis=False,\n",
    "    od_set=od_set,\n",
    "    cutoff=cutoff,\n",
    "    verbose=False,\n",
    ")\n",
    "ppf = sm.publicpathfinder"
   ]
  },
  {
   "cell_type": "code",
   "execution_count": 218,
   "id": "182fba59",
   "metadata": {},
   "outputs": [],
   "source": [
    "sm.pt_los = pd.concat([sm.pt_los, sm_fast.pt_los])"
   ]
  },
  {
   "cell_type": "code",
   "execution_count": 219,
   "id": "b2d8653f",
   "metadata": {},
   "outputs": [],
   "source": [
    "sm.road_links['time_ff'] = sm.road_links['length']/(sm.road_links['speed']*1000/3600)\n",
    "sm.step_road_pathfinder(method='aon', access_time='time',volume_column= 'car_owner',  time_column='time_ff', od_set=od_set,path_analysis=True )"
   ]
  },
  {
   "cell_type": "code",
   "execution_count": 220,
   "id": "539cccf6",
   "metadata": {},
   "outputs": [
    {
     "data": {
      "text/plain": [
       "time              0.0\n",
       "path         [zone_0]\n",
       "gtime             0.0\n",
       "node_path          []\n",
       "link_path          []\n",
       "ntlegs             []\n",
       "Name: (zone_0, zone_0), dtype: object"
      ]
     },
     "execution_count": 220,
     "metadata": {},
     "output_type": "execute_result"
    }
   ],
   "source": [
    "sm.car_los.set_index(['origin', 'destination']).loc['zone_0', 'zone_0']"
   ]
  },
  {
   "cell_type": "code",
   "execution_count": 221,
   "id": "9c553847",
   "metadata": {
    "scrolled": true
   },
   "outputs": [
    {
     "name": "stderr",
     "output_type": "stream",
     "text": [
      "path_analysis: 100%|██████████| 7757/7757 [00:00<00:00, 28738.39it/s]\n"
     ]
    }
   ],
   "source": [
    "sm.analysis_pt_los(walk_on_road=True)\n",
    "sm.analysis_pt_route_type(hierarchy=[ 'car', 'subway', 'tram','express_bus', 'bus','walk'])"
   ]
  },
  {
   "cell_type": "code",
   "execution_count": 222,
   "id": "4f932f73",
   "metadata": {},
   "outputs": [
    {
     "name": "stderr",
     "output_type": "stream",
     "text": [
      "car_los: 100%|██████████| 29/29 [00:00<00:00, 38.55it/s]            \n"
     ]
    }
   ],
   "source": [
    "sm.to_zippedpickles(model_folder +'los', omitted_attributes=['publicpathfinder'])"
   ]
  },
  {
   "cell_type": "code",
   "execution_count": 223,
   "id": "8424b7f5",
   "metadata": {},
   "outputs": [
    {
     "ename": "NameError",
     "evalue": "name 'end_of_notebook' is not defined",
     "output_type": "error",
     "traceback": [
      "\u001b[0;31m---------------------------------------------------------------------------\u001b[0m",
      "\u001b[0;31mNameError\u001b[0m                                 Traceback (most recent call last)",
      "Cell \u001b[0;32mIn[223], line 1\u001b[0m\n\u001b[0;32m----> 1\u001b[0m \u001b[43mend_of_notebook\u001b[49m\n",
      "\u001b[0;31mNameError\u001b[0m: name 'end_of_notebook' is not defined"
     ]
    }
   ],
   "source": [
    "end_of_notebook"
   ]
  }
 ],
 "metadata": {
  "kernelspec": {
   "display_name": "quetzal_env",
   "language": "python",
   "name": "quetzal_env"
  },
  "language_info": {
   "codemirror_mode": {
    "name": "ipython",
    "version": 3
   },
   "file_extension": ".py",
   "mimetype": "text/x-python",
   "name": "python",
   "nbconvert_exporter": "python",
   "pygments_lexer": "ipython3",
   "version": "3.8.19"
  }
 },
 "nbformat": 4,
 "nbformat_minor": 5
}
