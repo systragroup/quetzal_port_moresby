{
 "cells": [
  {
   "cell_type": "code",
   "execution_count": 151,
   "metadata": {},
   "outputs": [],
   "source": [
    "import sys # for automation and parallelization: set manual to false when run by a launcher\n",
    "import json\n",
    "default = {'scenario': 'futur_express', 'training_folder':'../..'} # Default execution parameters\n",
    "manual, argv = (True, default) if 'ipykernel' in sys.argv[0] else (False, dict(default, **json.loads(sys.argv[1])))"
   ]
  },
  {
   "cell_type": "code",
   "execution_count": 152,
   "metadata": {},
   "outputs": [
    {
     "name": "stdout",
     "output_type": "stream",
     "text": [
      "num cores: 8\n"
     ]
    }
   ],
   "source": [
    "import os\n",
    "import time\n",
    "import geopandas as gpd\n",
    "import pandas as pd\n",
    "import numpy as np\n",
    "sys.path.insert(0, r'../../../quetzal') # Add path to quetzal\n",
    "from sklearn.neighbors import NearestNeighbors\n",
    "from numba import jit, njit\n",
    "import numba as nb\n",
    "from quetzal.model import stepmodel\n",
    "from shapely.geometry import LineString\n",
    "from quetzal.io.gtfs_reader.importer import get_epsg\n",
    "from quetzal.io import excel\n",
    "on_lambda = bool(os.environ.get('AWS_EXECUTION_ENV'))\n",
    "num_cores = nb.config.NUMBA_NUM_THREADS\n",
    "print('num cores:',num_cores)\n",
    "\n",
    "io_engine= 'pyogrio' if on_lambda else 'pyogrio' #or fiona"
   ]
  },
  {
   "cell_type": "code",
   "execution_count": 153,
   "metadata": {},
   "outputs": [],
   "source": [
    "from syspy.skims.skims import euclidean"
   ]
  },
  {
   "cell_type": "code",
   "execution_count": 154,
   "metadata": {},
   "outputs": [
    {
     "name": "stdout",
     "output_type": "stream",
     "text": [
      "On Lambda :  False\n",
      "input folder:  ../../inputs/\n",
      "output folder:  ../../scenarios/futur_express/outputs/\n",
      "scen folder :  ../../scenarios/futur_express/inputs/\n",
      "model folder :  ../../scenarios/futur_express/model/\n"
     ]
    }
   ],
   "source": [
    "scenario = argv['scenario']\n",
    "\n",
    "on_lambda = bool(os.environ.get('AWS_EXECUTION_ENV'))\n",
    "print('On Lambda : ', on_lambda)\n",
    "\n",
    "training_folder = argv['training_folder']\n",
    "input_folder = training_folder +r'/inputs/'\n",
    "\n",
    "if not on_lambda:\n",
    "    scenario_folder = training_folder + '/scenarios/' + scenario  + '/inputs/'\n",
    "    output_folder = training_folder + '/scenarios/' + scenario  + '/outputs/'\n",
    "    model_folder = training_folder + '/scenarios/' + scenario  + '/model/'\n",
    "else:\n",
    "    scenario_folder = input_folder\n",
    "    output_folder = training_folder + '/outputs/'\n",
    "    model_folder = training_folder + '/model/'\n",
    "print('input folder: ', input_folder)\n",
    "print('output folder: ', output_folder)\n",
    "print('scen folder : ', scenario_folder)\n",
    "print('model folder : ', model_folder)"
   ]
  },
  {
   "cell_type": "code",
   "execution_count": 155,
   "metadata": {},
   "outputs": [],
   "source": [
    "if 'params' in argv.keys():\n",
    "    var = excel.read_var(file=input_folder+'parameters.xlsx', scenario=scenario, return_ancestry=False)\n",
    "    var.update(pd.DataFrame.from_dict(argv['params'], orient=\"index\").stack())\n",
    "else:\n",
    "    var = excel.read_var(file=input_folder+'parameters.xlsx', scenario=scenario, return_ancestry=False)"
   ]
  },
  {
   "cell_type": "code",
   "execution_count": 156,
   "metadata": {},
   "outputs": [],
   "source": [
    "motor_rate = var['generation']['motor_rate'] \n",
    "pt_rate = (1-motor_rate)"
   ]
  },
  {
   "cell_type": "markdown",
   "metadata": {},
   "source": [
    "# Import model"
   ]
  },
  {
   "cell_type": "code",
   "execution_count": 157,
   "metadata": {},
   "outputs": [
    {
     "name": "stderr",
     "output_type": "stream",
     "text": [
      "zones: 100%|██████████| 5/5 [00:00<00:00, 1045.34it/s]\n"
     ]
    }
   ],
   "source": [
    "sm = stepmodel.read_zippedpickles(model_folder +'aon_los')"
   ]
  },
  {
   "cell_type": "code",
   "execution_count": 158,
   "metadata": {},
   "outputs": [],
   "source": [
    "pop_a = var['generation']['pop_attraction']\n",
    "job_a = var['generation']['job_attraction']\n",
    "pop_p = var['generation']['pop_production']\n",
    "job_p = var['generation']['job_production']\n",
    "\n",
    "if not var['generation']['all_period']:\n",
    "    to_day =  var['generation']['to_day']\n",
    "else:\n",
    "    to_day = 1\n",
    "\n",
    "\n",
    "sm.zones['emission'] =  (sm.zones['population']*pop_p + sm.zones['jobs']* job_p) *to_day \n",
    "sm.zones['attraction'] =  (sm.zones['jobs']* job_a + sm.zones['population']*pop_a) *to_day \n",
    "sm.zones.sort_index(inplace=True)\n",
    "\n",
    "if var['generation']['correction_pa']:\n",
    "\n",
    "    if os.path.isfile(os.path.join(scenario_folder,'pa_correction.csv')):\n",
    "\n",
    "        pa_correction= pd.read_csv(os.path.join(scenario_folder,'pa_correction.csv'), index_col=0) #if in inputs read from inputs\n",
    "        sm.zones['correction_production'] = pa_correction['correction_production']\n",
    "        sm.zones['correction_attraction'] = pa_correction['correction_attraction']\n",
    "        sm.zones['emission'] =  (sm.zones['population']*pop_p + sm.zones['jobs']* job_p) *to_day + sm.zones['correction_production']\n",
    "        sm.zones['attraction'] =  (sm.zones['jobs']* job_a + sm.zones['population']*pop_a) *to_day + sm.zones['correction_attraction']\n",
    "        sm.zones.sort_index(inplace=True)\n",
    "        \n",
    "        \n",
    "    if not os.path.isfile(os.path.join(scenario_folder,'pa_correction.csv')): # not in inputs\n",
    "\n",
    "        emissions_file = (os.path.join(scenario_folder, 'production_calib.csv'))#(scenario_folder+'/calibration/production_calib.csv' )\n",
    "        attractions_file = (os.path.join(scenario_folder, 'attraction_calib.csv'))#(scenario_folder+'/calibration/attraction_calib.csv' )\n",
    "        emissions_file_provided = os.path.isfile(emissions_file)\n",
    "        attractions_file_provided = os.path.isfile(attractions_file)\n",
    "\n",
    "        if emissions_file_provided and attractions_file_provided:\n",
    "\n",
    "            emissions_calib = pd.read_csv(emissions_file, index_col=0)\n",
    "            attractions_calib = pd.read_csv(attractions_file,index_col=0)\n",
    "\n",
    "            pa_correction = sm.zones.merge(emissions_calib, left_index=True, right_index=True, how='left')\n",
    "            pa_correction = pa_correction.merge(attractions_calib, left_index=True, right_index=True, how='left')\n",
    "            pa_correction['correction_production'] = pa_correction['emission_calibration'] - pa_correction['emission']\n",
    "            pa_correction['correction_attraction'] = pa_correction['attraction_calibration'] - pa_correction['attraction']\n",
    "            sm.zones['correction_production'] = pa_correction['correction_production']\n",
    "            sm.zones['correction_attraction'] = pa_correction['correction_attraction']\n",
    "            sm.zones['emission'] =  (sm.zones['population']*pop_p + sm.zones['jobs']* job_p) *to_day + sm.zones['correction_production']\n",
    "            sm.zones['attraction'] =  (sm.zones['jobs']* job_a + sm.zones['population']*pop_a) *to_day + sm.zones['correction_attraction']\n",
    "            sm.zones.sort_index(inplace=True)\n",
    "\n",
    "            pa_correction.to_csv(os.path.join(scenario_folder,'pa_correction.csv')) # create in inputs\n",
    "            if not os.path.exists(output_folder):\n",
    "                os.makedirs(output_folder)\n",
    "                pa_correction.to_csv(os.path.join(output_folder,'pa_correction.csv'))\n",
    "            \n",
    "\n",
    "'''\n",
    "if production = attraction, to let people stay \n",
    "\n",
    "if var['step_distribution']['symmetrize_matrix']:\n",
    "    sm.zones['emission'] =  (sm.zones['emission']+ sm.zones['attraction'])/2\n",
    "    sm.zones['attraction'] =  sm.zones['emission']\n",
    "'''\n",
    "\n",
    "\n",
    "car = sm.copy()\n",
    "car.zones[['attraction','emission']] *= motor_rate  \n",
    "car.zones = car.zones.loc[car.car_los[\"origin\"].unique()]\n",
    "\n",
    "pt_captive = sm.copy()\n",
    "pt_captive.zones[['attraction','emission']] *= pt_rate\n",
    "pt_captive.zones = pt_captive.zones.loc[pt_captive.pt_los[\"origin\"].unique()]"
   ]
  },
  {
   "cell_type": "code",
   "execution_count": 159,
   "metadata": {},
   "outputs": [],
   "source": [
    "def create_impendance_matrix(df,mode=None, b=None, n=None):\n",
    "    #time devient en minute comme dans modelling transport\n",
    "    cost_matrix =  df[ \n",
    "    ['origin', 'destination', 'time']\n",
    "].set_index(['origin','destination']).unstack()\n",
    "    \n",
    "    cost_matrix = cost_matrix.replace(0,var['step_distribution']['time_intrazonal_{}'.format(mode)] ) \n",
    "    if n == None: n = var[\"step_distribution\"][\"n_{}\".format(mode)]\n",
    "    if b == None: b = var[\"step_distribution\"][\"b_{}\".format(mode)]\n",
    "    f_cost_matrix = cost_matrix.pow(n) * np.exp(- b *cost_matrix)\n",
    "    \n",
    "    #enorme temps pour detruire od sans tc dans pt captif\n",
    "    f_cost_matrix = f_cost_matrix.fillna(1e16)\n",
    "    \n",
    "    imp_matrix = f_cost_matrix \n",
    "    \n",
    "    return( imp_matrix )"
   ]
  },
  {
   "cell_type": "code",
   "execution_count": 160,
   "metadata": {},
   "outputs": [],
   "source": [
    "if var['step_distribution']['distance_distribution']:\n",
    "    from syspy.skims.skims import euclidean\n",
    "\n",
    "    distances = euclidean(sm.zones, coordinates_unit='meter', epsg=4326)\n",
    "    distances['time'] = distances['euclidean_distance'] / 5 + 300\n",
    "    distances.loc[distances['origin'] == distances['destination'], 'time']= var['step_distribution']['time_intrazonal_car']\n",
    "    distances = distances.sort_index()"
   ]
  },
  {
   "cell_type": "code",
   "execution_count": 161,
   "metadata": {},
   "outputs": [],
   "source": [
    "if var['step_distribution']['distance_distribution'] : e = create_impendance_matrix(distances,'car')\n",
    "else: e = create_impendance_matrix(car.car_los,'car')\n",
    "e = e.sort_index(axis=0).sort_index(axis=1)\n",
    "car.zones.sort_index(inplace=True)\n",
    "e.sort_index(axis=1, inplace=True)\n",
    "e.sort_index(axis=0, inplace=True)\n",
    "car.step_distribution(deterrence_matrix = e) "
   ]
  },
  {
   "cell_type": "code",
   "execution_count": 162,
   "metadata": {},
   "outputs": [],
   "source": [
    "if var['step_distribution']['distance_distribution'] : e = create_impendance_matrix(distances,'pt')\n",
    "else:e = create_impendance_matrix(pt_captive.pt_los,'pt')\n",
    "e = e.sort_index(axis=0).sort_index(axis=1)\n",
    "e.sort_index(axis=1, inplace=True)\n",
    "e.sort_index(axis=0, inplace=True)\n",
    "pt_captive.step_distribution(deterrence_matrix = e) "
   ]
  },
  {
   "cell_type": "code",
   "execution_count": 163,
   "metadata": {},
   "outputs": [],
   "source": [
    "sm.volumes = pd.merge(\n",
    "    car.volumes, \n",
    "    pt_captive.volumes,\n",
    "    on=['origin', 'destination'],\n",
    "    suffixes=[ '_car_owner', '_pt_captive']\n",
    ").rename(columns={'volume_car_owner': 'car_owner', 'volume_pt_captive': 'pt_captive'})\n"
   ]
  },
  {
   "cell_type": "code",
   "execution_count": 164,
   "metadata": {},
   "outputs": [
    {
     "name": "stdout",
     "output_type": "stream",
     "text": [
      "cannot fit both axis. c =  0.00892760665004344\n",
      "cannot fit both axis. c =  0.004867805630440536\n"
     ]
    }
   ],
   "source": [
    "sm.sample_volumes(bidimentional_sampling=True, fit_sums=True, sample_weight={'car_owner':50, 'pt_captive':5}, sample_size=None, inplace=True)"
   ]
  },
  {
   "cell_type": "code",
   "execution_count": 165,
   "metadata": {},
   "outputs": [],
   "source": [
    "od_file = scenario_folder + 'od/od.geojson'\n",
    "od_file_provided = os.path.isfile(od_file)\n",
    "if od_file_provided:\n",
    "    \n",
    "    od_test = gpd.read_file(od_file, engine= io_engine)\n",
    "    if 'name' not in od_test.columns:\n",
    "        od_test['name'] = od_test['index']\n",
    "    od_test['name'] = od_test['name'].fillna(od_test['index'].astype(str))\n",
    "    from shapely.geometry import Point\n",
    "    from syspy.spatial.spatial import nearest, agglomerative_clustering, voronoi_diagram_dataframes, add_geometry_coordinates\n",
    "    od_test['geometry_o'] = od_test['geometry'].apply(lambda g: Point(g.coords[:][0]))\n",
    "    od_test['geometry_d'] = od_test['geometry'].apply(lambda g: Point(g.coords[:][1]))\n",
    "    # find nearest node with KNN. nodes are now the origin and destination.\n",
    "    od_test['geometry'] = od_test['geometry_o']\n",
    "    neigh = nearest(od_test, sm.zones.to_crs(4326), n_neighbors=1).rename(columns={'ix_one': 'zone_index', 'ix_many': 'node_index'})\n",
    "    zone_node_dict = neigh.set_index('zone_index')['node_index'].to_dict()\n",
    "    od_test['origin'] = od_test.index.map(zone_node_dict.get)\n",
    "\n",
    "    od_test['geometry'] = od_test['geometry_d']\n",
    "    neigh = nearest(od_test, sm.zones.to_crs(4326), n_neighbors=1).rename(columns={'ix_one': 'zone_index', 'ix_many': 'node_index'})\n",
    "    zone_node_dict = neigh.set_index('zone_index')['node_index'].to_dict()\n",
    "    od_test['destination'] = od_test.index.map(zone_node_dict.get)\n",
    "\n",
    "    od_test = od_test.drop(columns=['geometry_o','geometry_d','geometry'])\n",
    "    od_test[\"pt_captive\"] = 0.001\n",
    "    #Add od_test to volumes after sparsification\n",
    "    sm.volumes = pd.concat([sm.volumes,od_test[[\"origin\",\"destination\",\"pt_captive\"]]]).sort_values(by=\"pt_captive\",ascending = False).drop_duplicates([\"origin\",\"destination\"])\n",
    "\n",
    "\n",
    "    sm.volumes= pd.concat([sm.volumes,od_test[[\"origin\",\"destination\",\"pt_captive\"]]]).sort_values(by=\"pt_captive\",ascending = False).drop_duplicates([\"origin\",\"destination\"])"
   ]
  },
  {
   "cell_type": "code",
   "execution_count": 166,
   "metadata": {},
   "outputs": [],
   "source": [
    "if var['step_distribution']['symmetrize_matrix']:\n",
    "    transpose = sm.volumes.copy()\n",
    "    transpose = transpose.rename(columns={'origin':'destination', 'destination':'origin'}).fillna(0)\n",
    "    sym = (sm.volumes.set_index(['origin', 'destination']) + transpose.set_index(['destination', 'origin']))/2\n",
    "    sm.volumes = sym.reset_index()\n",
    "    "
   ]
  },
  {
   "cell_type": "code",
   "execution_count": 167,
   "metadata": {
    "scrolled": true
   },
   "outputs": [
    {
     "name": "stderr",
     "output_type": "stream",
     "text": [
      "volumes: 100%|██████████| 12/12 [00:00<00:00, 2035.99it/s]\n"
     ]
    }
   ],
   "source": [
    "sm.to_zippedpickles(model_folder +'distribution', only_attributes= ['volumes', 'zones_before_clustering'])"
   ]
  },
  {
   "cell_type": "code",
   "execution_count": 168,
   "metadata": {},
   "outputs": [],
   "source": [
    "if var[\"calibration\"][\"sortie\"] == False:\n",
    "    end_of_notebook"
   ]
  },
  {
   "cell_type": "markdown",
   "metadata": {},
   "source": [
    "# Calibration"
   ]
  },
  {
   "cell_type": "code",
   "execution_count": 169,
   "metadata": {},
   "outputs": [],
   "source": [
    "from syspy.spatial.spatial import nearest_geometry\n",
    "import math\n",
    "import matplotlib.pyplot as plt\n",
    "from syspy.skims.skims import euclidean"
   ]
  },
  {
   "cell_type": "code",
   "execution_count": 170,
   "metadata": {},
   "outputs": [],
   "source": [
    "if not os.path.exists(output_folder):\n",
    "    os.makedirs(output_folder)"
   ]
  },
  {
   "cell_type": "code",
   "execution_count": 171,
   "metadata": {},
   "outputs": [],
   "source": [
    "def from_zone_before_clustering_to_zone(df,zones):\n",
    "    df_calib = df.merge(zones,left_on = \"origin\", right_index = True, how = \"left\")\n",
    "    df_calib = df_calib.merge(zones,left_on = \"destination\", right_index = True, how = \"left\",suffixes = (\"_origin\",\"_destination\"))\n",
    "    df_calib = df_calib[[\"cluster_origin\",\"cluster_destination\",\"volumes_calibration\"]].rename(columns = {\"cluster_origin\" : \"origin\",\"cluster_destination\" : \"destination\"})\n",
    "    return(df_calib)\n",
    "    \n",
    "    return(df[[\"ratio\", 'cluster']])\n",
    "def near_nodes(nodes,zones,div_neighbors = 2):\n",
    "    node_proxim = nearest_geometry(nodes,zones,n_neighbors = int(len(zones)/div_neighbors),n_neighbors_centroid = int(len(zones)/div_neighbors))\n",
    "    node_proxim = node_proxim.sort_values(by = \"actual_distance\")\n",
    "    node_proxim =  node_proxim.drop_duplicates([\"ix_one\"])\n",
    "    return(node_proxim.set_index([\"ix_one\"])[\"ix_many\"].to_dict())\n",
    "def GEH(A, B):\n",
    "    return ((2*(A-B)**2)/(A+B)).apply(math.sqrt)\n",
    "def round_up(n, decimals=0):\n",
    "    multiplier = 10**decimals/2\n",
    "    return math.ceil(n * multiplier) / multiplier"
   ]
  },
  {
   "cell_type": "code",
   "execution_count": 172,
   "metadata": {},
   "outputs": [],
   "source": [
    "zones_before_clustering = sm.zones_before_clustering.copy()\n",
    "zones_before_clustering[\"cluster\"] = 'zone_' + zones_before_clustering[\"cluster\"].astype(str) \n",
    "zones = zones_before_clustering"
   ]
  },
  {
   "cell_type": "code",
   "execution_count": 173,
   "metadata": {},
   "outputs": [],
   "source": [
    "sm.volumes = sm.volumes.fillna(0)\n",
    "sm.volumes['volumes_model'] = sm.volumes['car_owner'] + sm.volumes['pt_captive']\n",
    "sm.volumes = sm.volumes.groupby(['origin', 'destination']).sum()\n",
    "sm.volumes = sm.volumes.reset_index()"
   ]
  },
  {
   "cell_type": "markdown",
   "metadata": {},
   "source": [
    "# import donées calibration"
   ]
  },
  {
   "cell_type": "code",
   "execution_count": 174,
   "metadata": {},
   "outputs": [],
   "source": [
    "calib_file = scenario_folder  + r'calibration/volume_od_calibration.csv'\n",
    "calib_file_provided = os.path.isfile(calib_file)\n",
    "if calib_file_provided:\n",
    "    vol_od_calibration = pd.read_csv(calib_file)\n",
    "    columns = [\"volumes_model\",\"volumes_calibration\"]\n",
    "    vol_od_calibration = from_zone_before_clustering_to_zone(vol_od_calibration,zones)\n",
    "    vol_od_calibration = vol_od_calibration.dropna()\n",
    "else :\n",
    "    columns = [\"volumes_model\"]"
   ]
  },
  {
   "cell_type": "code",
   "execution_count": 175,
   "metadata": {},
   "outputs": [],
   "source": [
    "emissions_file = scenario_folder  + r'calibration/emissions_calib.csv'\n",
    "attractions_file = scenario_folder  + r'calibration/attractions_calib.csv'\n",
    "\n",
    "emissions_file_provided = os.path.isfile(emissions_file)\n",
    "attractions_file_provided = os.path.isfile(attractions_file)\n",
    "\n",
    "if emissions_file_provided and attractions_file_provided:\n",
    "    emissions_calib = pd.read_csv(emissions_file)\n",
    "    attractions_calib = pd.read_csv(attractions_file)\n",
    "\n",
    "    "
   ]
  },
  {
   "cell_type": "markdown",
   "metadata": {},
   "source": [
    "### macrozones"
   ]
  },
  {
   "cell_type": "code",
   "execution_count": 176,
   "metadata": {},
   "outputs": [
    {
     "name": "stderr",
     "output_type": "stream",
     "text": [
      "nearest_link: 100%|██████████| 464/464 [00:00<00:00, 240980.32it/s]\n"
     ]
    }
   ],
   "source": [
    "macro_file = scenario_folder  + r'calibration/zones_macro.geojson'\n",
    "macro_file_provided = os.path.isfile(macro_file)\n",
    "if macro_file_provided:\n",
    "    import shapely as shp\n",
    "    macro_zones = gpd.read_file(macro_file, engine= io_engine).to_crs(sm.zones.crs)\n",
    "\n",
    "    macro_zones = macro_zones.groupby(\"macro_zones\")['geometry'].apply(shp.ops.cascaded_union)\n",
    "    centroid = gpd.GeoDataFrame(sm.zones.centroid).rename(columns = {0:\"geometry\"})\n",
    "    \n",
    "    dico_macro_zones = near_nodes(centroid,macro_zones)"
   ]
  },
  {
   "cell_type": "markdown",
   "metadata": {},
   "source": [
    "### distance"
   ]
  },
  {
   "cell_type": "code",
   "execution_count": 177,
   "metadata": {},
   "outputs": [],
   "source": [
    "origins = sm.volumes['origin'].unique().tolist()\n",
    "destinations = sm.volumes['destination'].unique().tolist()\n",
    "\n",
    "distances = euclidean(sm.zones, coordinates_unit='meter', epsg=4326, origins=origins, destinations=destinations)\n",
    "distances\n",
    "distances['avg_dist'] = (distances['euclidean_distance']/1000)\n",
    "distances['euclidean_distance'] = (distances['euclidean_distance']/1000).apply(lambda x: round_up(x,var['generation_calibration']['decimal_dist']))\n"
   ]
  },
  {
   "cell_type": "markdown",
   "metadata": {},
   "source": [
    "# generation"
   ]
  },
  {
   "cell_type": "code",
   "execution_count": 178,
   "metadata": {},
   "outputs": [],
   "source": [
    "if calib_file_provided and var['calibration']['survey_comparison']:\n",
    "    sm.zones['emission_calibration'] = vol_od_calibration.groupby(['origin']).sum()\n",
    "    sm.zones['attraction_calibration'] = vol_od_calibration.groupby(['destination']).sum()\n",
    "    \n",
    "    to_plot=sm.zones\n",
    "    ax =  to_plot.plot.scatter(x='emission_calibration', y='emission', figsize=[10, 10], zorder=3, cmap='viridis', vmin=0, vmax=25)\n",
    "    ax.grid(axis='both', zorder=3)\n",
    "    plt.title('Corrélation des émissions',loc='center', fontsize=16, fontweight=\"bold\")\n",
    "    plt.xlabel('Calibration', fontsize=14)\n",
    "    plt.ylabel('Modèle', fontsize=14)\n",
    "    ax.set_xlim(0,150000)\n",
    "    ax.set_ylim(0,150000)\n",
    "    fig = ax.get_figure()\n",
    "    plt.savefig(output_folder+'01_Comparaison_emissions',bbox_inches='tight', dpi=150)"
   ]
  },
  {
   "cell_type": "code",
   "execution_count": 179,
   "metadata": {},
   "outputs": [],
   "source": [
    "if calib_file_provided and var['calibration']['survey_comparison']:\n",
    "    to_plot=sm.zones\n",
    "    ax =  to_plot.plot.scatter(x='attraction_calibration', y='attraction', figsize=[10, 10], zorder=3, cmap='viridis', vmin=0, vmax=25)\n",
    "    ax.grid(axis='both', zorder=3)\n",
    "    plt.title('Corrélation des attractions',loc='center', fontsize=16, fontweight=\"bold\")\n",
    "    plt.xlabel('Calibration', fontsize=14)\n",
    "    plt.ylabel('Modèle', fontsize=14)\n",
    "    ax.set_xlim(0,150000)\n",
    "    ax.set_ylim(0,150000)\n",
    "    fig = ax.get_figure()\n",
    "    plt.savefig(output_folder+'02_Comparaison_attractions',bbox_inches='tight', dpi=150)"
   ]
  },
  {
   "cell_type": "code",
   "execution_count": 180,
   "metadata": {},
   "outputs": [
    {
     "data": {
      "text/plain": [
       "\"\\nemissions_file = (scenario_folder+'/calibration/production_calib.csv' )\\nattractions_file =(scenario_folder+'/calibration/attraction_calib.csv' )\\n\\nemissions_file_provided = os.path.isfile(emissions_file)\\nattractions_file_provided = os.path.isfile(attractions_file)\\n\\nif emissions_file_provided and attractions_file_provided:\\n    emissions_calib = pd.read_csv(emissions_file)\\n    attractions_calib = pd.read_csv(attractions_file)\\n\\n\\n    if not os.path.exists(output_folder + 'pa_correction.csv'): # or si c<est pas dans input folder ausso\\n\\n        attractions_calib = attractions_calib.merge(zones_before_clustering['cluster'], left_on='destination', right_index=True)\\n        emissions_calib = emissions_calib.merge(zones_before_clustering['cluster'], left_on='origin', right_index=True)\\n\\n        attractions_calib = attractions_calib.set_index('cluster').rename_axis('index')\\n        emissions_calib = emissions_calib.set_index('cluster').rename_axis('index')\\n\\n        emissions = pd.DataFrame(sm.zones['emission'])\\n        attractions = pd.DataFrame(sm.zones['attraction'])\\n        emissions_attractions = emissions.merge(attractions, left_index=True, right_index=True, how='inner')\\n        emissions_attractions['emission_calibration'] = emissions_calib['volumes_calibration']\\n        emissions_attractions['attraction_calibration'] = attractions_calib['volumes_calibration']\\n        emissions_attractions['correction_production'] = emissions_attractions['emission_calibration'] - emissions_attractions['emission']\\n        emissions_attractions['correction_attraction'] = emissions_attractions['attraction_calibration'] - emissions_attractions['attraction']\\n        emissions_attractions[['correction_production', 'correction_attraction']] =  emissions_attractions[['correction_production', 'correction_attraction']].fillna(0)\\n        emissions_attractions.to_csv(output_folder + 'pa_correction.csv')\\n\\n        emissions_attractions = emissions_attractions.merge(sm.zones_poly['geometry'], right_index=True, left_index=True)\\n        gpd.GeoDataFrame(emissions_attractions).to_crs(epsg=4326).to_file(output_folder +'zones_correction.geojson', driver='GeoJSON')\\n    \""
      ]
     },
     "execution_count": 180,
     "metadata": {},
     "output_type": "execute_result"
    }
   ],
   "source": [
    "'''\n",
    "emissions_file = (scenario_folder+'/calibration/production_calib.csv' )\n",
    "attractions_file =(scenario_folder+'/calibration/attraction_calib.csv' )\n",
    "\n",
    "emissions_file_provided = os.path.isfile(emissions_file)\n",
    "attractions_file_provided = os.path.isfile(attractions_file)\n",
    "\n",
    "if emissions_file_provided and attractions_file_provided:\n",
    "    emissions_calib = pd.read_csv(emissions_file)\n",
    "    attractions_calib = pd.read_csv(attractions_file)\n",
    "\n",
    "\n",
    "    if not os.path.exists(output_folder + 'pa_correction.csv'): # or si c<est pas dans input folder ausso\n",
    "\n",
    "        attractions_calib = attractions_calib.merge(zones_before_clustering['cluster'], left_on='destination', right_index=True)\n",
    "        emissions_calib = emissions_calib.merge(zones_before_clustering['cluster'], left_on='origin', right_index=True)\n",
    "\n",
    "        attractions_calib = attractions_calib.set_index('cluster').rename_axis('index')\n",
    "        emissions_calib = emissions_calib.set_index('cluster').rename_axis('index')\n",
    "\n",
    "        emissions = pd.DataFrame(sm.zones['emission'])\n",
    "        attractions = pd.DataFrame(sm.zones['attraction'])\n",
    "        emissions_attractions = emissions.merge(attractions, left_index=True, right_index=True, how='inner')\n",
    "        emissions_attractions['emission_calibration'] = emissions_calib['volumes_calibration']\n",
    "        emissions_attractions['attraction_calibration'] = attractions_calib['volumes_calibration']\n",
    "        emissions_attractions['correction_production'] = emissions_attractions['emission_calibration'] - emissions_attractions['emission']\n",
    "        emissions_attractions['correction_attraction'] = emissions_attractions['attraction_calibration'] - emissions_attractions['attraction']\n",
    "        emissions_attractions[['correction_production', 'correction_attraction']] =  emissions_attractions[['correction_production', 'correction_attraction']].fillna(0)\n",
    "        emissions_attractions.to_csv(output_folder + 'pa_correction.csv')\n",
    "\n",
    "        emissions_attractions = emissions_attractions.merge(sm.zones_poly['geometry'], right_index=True, left_index=True)\n",
    "        gpd.GeoDataFrame(emissions_attractions).to_crs(epsg=4326).to_file(output_folder +'zones_correction.geojson', driver='GeoJSON')\n",
    "    '''"
   ]
  },
  {
   "cell_type": "code",
   "execution_count": 181,
   "metadata": {},
   "outputs": [
    {
     "data": {
      "text/html": [
       "<div>\n",
       "<style scoped>\n",
       "    .dataframe tbody tr th:only-of-type {\n",
       "        vertical-align: middle;\n",
       "    }\n",
       "\n",
       "    .dataframe tbody tr th {\n",
       "        vertical-align: top;\n",
       "    }\n",
       "\n",
       "    .dataframe thead th {\n",
       "        text-align: right;\n",
       "    }\n",
       "</style>\n",
       "<table border=\"1\" class=\"dataframe\">\n",
       "  <thead>\n",
       "    <tr style=\"text-align: right;\">\n",
       "      <th></th>\n",
       "      <th>density</th>\n",
       "      <th>population</th>\n",
       "      <th>jobs</th>\n",
       "      <th>emission</th>\n",
       "      <th>attraction</th>\n",
       "    </tr>\n",
       "  </thead>\n",
       "  <tbody>\n",
       "    <tr>\n",
       "      <th>density</th>\n",
       "      <td>1.000000</td>\n",
       "      <td>0.624920</td>\n",
       "      <td>0.095478</td>\n",
       "      <td>0.592367</td>\n",
       "      <td>0.592367</td>\n",
       "    </tr>\n",
       "    <tr>\n",
       "      <th>population</th>\n",
       "      <td>0.624920</td>\n",
       "      <td>1.000000</td>\n",
       "      <td>0.332071</td>\n",
       "      <td>0.982904</td>\n",
       "      <td>0.982904</td>\n",
       "    </tr>\n",
       "    <tr>\n",
       "      <th>jobs</th>\n",
       "      <td>0.095478</td>\n",
       "      <td>0.332071</td>\n",
       "      <td>1.000000</td>\n",
       "      <td>0.500067</td>\n",
       "      <td>0.500067</td>\n",
       "    </tr>\n",
       "    <tr>\n",
       "      <th>emission</th>\n",
       "      <td>0.592367</td>\n",
       "      <td>0.982904</td>\n",
       "      <td>0.500067</td>\n",
       "      <td>1.000000</td>\n",
       "      <td>1.000000</td>\n",
       "    </tr>\n",
       "    <tr>\n",
       "      <th>attraction</th>\n",
       "      <td>0.592367</td>\n",
       "      <td>0.982904</td>\n",
       "      <td>0.500067</td>\n",
       "      <td>1.000000</td>\n",
       "      <td>1.000000</td>\n",
       "    </tr>\n",
       "  </tbody>\n",
       "</table>\n",
       "</div>"
      ],
      "text/plain": [
       "             density  population      jobs  emission  attraction\n",
       "density     1.000000    0.624920  0.095478  0.592367    0.592367\n",
       "population  0.624920    1.000000  0.332071  0.982904    0.982904\n",
       "jobs        0.095478    0.332071  1.000000  0.500067    0.500067\n",
       "emission    0.592367    0.982904  0.500067  1.000000    1.000000\n",
       "attraction  0.592367    0.982904  0.500067  1.000000    1.000000"
      ]
     },
     "execution_count": 181,
     "metadata": {},
     "output_type": "execute_result"
    }
   ],
   "source": [
    "sm.zones.corr()"
   ]
  },
  {
   "cell_type": "markdown",
   "metadata": {},
   "source": [
    "## Volume totaux"
   ]
  },
  {
   "cell_type": "code",
   "execution_count": 182,
   "metadata": {},
   "outputs": [
    {
     "data": {
      "text/plain": [
       "parameter\n",
       "correction_pa     False\n",
       "motor_rate          0.5\n",
       "pop_attraction      1.5\n",
       "job_attraction      0.5\n",
       "pop_production      1.5\n",
       "job_production      0.5\n",
       "to_day                1\n",
       "all_period        False\n",
       "Name: futur_express, dtype: object"
      ]
     },
     "execution_count": 182,
     "metadata": {},
     "output_type": "execute_result"
    }
   ],
   "source": [
    "# paramètres utilisables pour modifier\n",
    "var[\"generation\"]"
   ]
  },
  {
   "cell_type": "code",
   "execution_count": 183,
   "metadata": {},
   "outputs": [
    {
     "name": "stdout",
     "output_type": "stream",
     "text": [
      "Model:1310000.0\n"
     ]
    }
   ],
   "source": [
    "if calib_file_provided and var['calibration']['survey_comparison']:\n",
    "    print(' Calibration:'+ (vol_od_calibration[\"volumes_calibration\"].sum().round(-4)).astype(str) + '\\n','Model:'+ sm.volumes['volumes_model'].sum().round(-4).astype(str) + '\\n','Rapport Calibration/Model:' + ((vol_od_calibration['volumes_calibration'].sum()/sm.volumes['volumes_model'].sum()).round(3)).astype(str) + '\\n' )\n",
    "\n",
    "else: \n",
    "     print('Model:'+ sm.volumes['volumes_model'].sum().round(-4).astype(str))"
   ]
  },
  {
   "cell_type": "markdown",
   "metadata": {},
   "source": [
    "# comparaison OD "
   ]
  },
  {
   "cell_type": "code",
   "execution_count": 184,
   "metadata": {},
   "outputs": [
    {
     "data": {
      "text/plain": [
       "parameter\n",
       "symmetrize_matrix        False\n",
       "distance_distribution    False\n",
       "n_car                        1\n",
       "n_pt                         1\n",
       "b_car                     0.01\n",
       "b_pt                      0.01\n",
       "time_intrazonal_car       1000\n",
       "time_intrazonal_pt        1000\n",
       "Name: futur_express, dtype: object"
      ]
     },
     "execution_count": 184,
     "metadata": {},
     "output_type": "execute_result"
    }
   ],
   "source": [
    "# paramètres utilisables pour modifier\n",
    "var[\"step_distribution\"]"
   ]
  },
  {
   "cell_type": "code",
   "execution_count": 185,
   "metadata": {},
   "outputs": [],
   "source": [
    "if calib_file_provided and var['calibration']['survey_comparison']:\n",
    "    comp_volumes = vol_od_calibration.groupby([\"origin\",\"destination\"]).sum().reset_index().merge(sm.volumes[['origin', 'destination','volumes_model']], on = ['origin', 'destination'], how= 'outer')\n",
    "    if macro_file_provided:\n",
    "            comp_volumes_macro = comp_volumes.copy()\n",
    "            comp_volumes_macro[\"origin\"] = comp_volumes_macro[\"origin\"].apply(lambda x : dico_macro_zones[x])\n",
    "            comp_volumes_macro[\"destination\"] = comp_volumes_macro[\"destination\"].apply(lambda x : dico_macro_zones[x])\n",
    "            comp_volumes_macro = comp_volumes_macro.groupby([\"origin\", \"destination\"], as_index=False)[columns].sum()\n",
    "            comp_volumes_macro.corr()\n",
    "else:\n",
    "    comp_volumes = sm.volumes[['origin', 'destination','volumes_model']]\n"
   ]
  },
  {
   "cell_type": "code",
   "execution_count": 186,
   "metadata": {},
   "outputs": [],
   "source": [
    "if calib_file_provided and macro_file_provided and var['calibration']['survey_comparison']: \n",
    "    to_plot = comp_volumes_macro.set_index(['origin', 'destination'])\n",
    "    ycol= 'volumes_model'\n",
    "    xcol= 'volumes_calibration'\n",
    "    to_plot['GEH'] = GEH(to_plot[ycol], to_plot[xcol])\n",
    "    ax =  to_plot.plot.scatter(x=xcol, y=ycol, figsize=[15, 15], zorder=3, cmap='viridis')\n",
    "\n",
    "    t = np.arange(0., max(to_plot[xcol].max(),to_plot[ycol].max()) +500, 1)\n",
    "    plt.plot(t,t,linestyle='--',color=\"Grey\", zorder=2)\n",
    "    plt.xlim([0., max(to_plot[xcol].quantile(0.95),to_plot[ycol].quantile(0.95))+500])\n",
    "    plt.ylim([0., max(to_plot[xcol].quantile(0.95),to_plot[ycol].quantile(0.95))+500])\n",
    "    plt.xlabel('Calibration', fontsize=14)\n",
    "    plt.ylabel('Modèle', fontsize=14)\n",
    "    \n",
    "    ax.grid(axis='both', zorder=3)\n",
    "    plt.title('Comparaison origine/destination macro zones ressérée', loc='center', fontsize=16, fontweight=\"bold\")\n",
    "    fig = ax.get_figure()\n",
    "    plt.savefig(output_folder+'03_Comparaison_od_ressérée.png',bbox_inches='tight', dpi=150)"
   ]
  },
  {
   "cell_type": "code",
   "execution_count": 187,
   "metadata": {
    "scrolled": true
   },
   "outputs": [],
   "source": [
    "if calib_file_provided and macro_file_provided and var['calibration']['survey_comparison']: \n",
    "    to_plot = comp_volumes_macro.set_index(['origin', 'destination'])\n",
    "    ycol= 'volumes_model'\n",
    "    xcol= 'volumes_calibration'\n",
    "    to_plot['GEH'] = GEH(to_plot[ycol], to_plot[xcol])\n",
    "    ax =  to_plot.plot.scatter(x=xcol, y=ycol, figsize=[15, 15], zorder=3, cmap='viridis')\n",
    "\n",
    "    t = np.arange(0., max(to_plot[xcol].max(),to_plot[ycol].max()) +500, 1)\n",
    "    plt.plot(t,t,linestyle='--',color=\"Grey\", zorder=2)\n",
    "    plt.xlim([0., max(to_plot[xcol].max(),to_plot[ycol].max())+500])\n",
    "    plt.ylim([0., max(to_plot[xcol].max(),to_plot[ycol].max())+500])\n",
    "    plt.xlabel('Calibration', fontsize=14)\n",
    "    plt.ylabel('Modèle', fontsize=14)\n",
    "    \n",
    "    ax.grid(axis='both', zorder=3)\n",
    "    plt.title('Comparaison origine/destination macro zones', loc='center', fontsize=16, fontweight=\"bold\")\n",
    "    \n",
    "    fig = ax.get_figure()\n",
    "    plt.savefig(output_folder+'04_Comparaison_od_macro.png',bbox_inches='tight', dpi=150)"
   ]
  },
  {
   "cell_type": "code",
   "execution_count": 188,
   "metadata": {},
   "outputs": [],
   "source": [
    "if calib_file_provided and macro_file_provided and var['calibration']['survey_comparison']: \n",
    "    to_plot = comp_volumes_macro.set_index(['origin', 'destination'])\n",
    "    ycol= 'volumes_model'\n",
    "    xcol= 'volumes_calibration'\n",
    "    to_plot['GEH'] = GEH(to_plot[ycol], to_plot[xcol])\n",
    "    ax =  to_plot.plot.scatter(x=xcol, y=ycol, figsize=[15, 15], zorder=3, cmap='viridis')\n",
    "\n",
    "    t = np.arange(0., max(to_plot[xcol].max(),to_plot[ycol].max()) +500, 1)\n",
    "    plt.plot(t,t,linestyle='--',color=\"Grey\", zorder=2)\n",
    "    plt.xlim([0., max(to_plot[xcol].quantile(0.95),to_plot[ycol].quantile(0.95))+500])\n",
    "    plt.ylim([0., max(to_plot[xcol].quantile(0.95),to_plot[ycol].quantile(0.95))+500])\n",
    "    plt.xlabel('Calibration', fontsize=14)\n",
    "    plt.ylabel('Modèle', fontsize=14)\n",
    "    \n",
    "    ax.grid(axis='both', zorder=3)\n",
    "    plt.title('Comparaison origine/destination macro zones ressérées', loc='center', fontsize=16, fontweight=\"bold\")\n",
    "    fig = ax.get_figure()\n",
    "    plt.savefig(output_folder+'05_Comparaison_od_ressérée.png',bbox_inches='tight', dpi=150)"
   ]
  },
  {
   "cell_type": "code",
   "execution_count": 189,
   "metadata": {},
   "outputs": [],
   "source": [
    "if calib_file_provided and macro_file_provided and var['calibration']['survey_comparison']: \n",
    "    comp_volumes_macro['delta'] = comp_volumes_macro['volumes_model'] - comp_volumes_macro['volumes_calibration']\n",
    "    comp_volumes_macro[['origin', 'destination', 'delta']].set_index(['origin','destination']).unstack()"
   ]
  },
  {
   "cell_type": "markdown",
   "metadata": {},
   "source": [
    "# distance"
   ]
  },
  {
   "cell_type": "code",
   "execution_count": 190,
   "metadata": {},
   "outputs": [],
   "source": [
    "comp_volumes = comp_volumes.merge(distances[['origin', 'destination', 'euclidean_distance', 'avg_dist']],on = [\"origin\",\"destination\"], how =\"left\")\n",
    "if var['calibration']['survey_comparison']:\n",
    "    comp_volumes_dist = comp_volumes.groupby('euclidean_distance').agg({'volumes_model':'sum', 'volumes_calibration':'sum', 'avg_dist':'mean'})\n",
    "else:\n",
    "    comp_volumes_dist = comp_volumes.groupby('euclidean_distance').agg({'volumes_model':'sum', 'avg_dist':'mean'})\n"
   ]
  },
  {
   "cell_type": "code",
   "execution_count": 191,
   "metadata": {},
   "outputs": [],
   "source": [
    "if calib_file_provided and var['calibration']['survey_comparison']:\n",
    "    comp_volumes_dist['volumes_model'] *= comp_volumes_dist['volumes_calibration'].sum() / comp_volumes_dist['volumes_model'].sum()\n",
    "    comp_volumes_dist['volumes_calibration'] = comp_volumes_dist['volumes_calibration']/comp_volumes_dist['volumes_calibration'].sum()"
   ]
  },
  {
   "cell_type": "code",
   "execution_count": 192,
   "metadata": {},
   "outputs": [
    {
     "data": {
      "image/png": "[encoded data removed]",
      "text/plain": [
       "<Figure size 1000x1000 with 1 Axes>"
      ]
     },
     "metadata": {},
     "output_type": "display_data"
    }
   ],
   "source": [
    "comp_volumes_dist['volumes_model'] = comp_volumes_dist['volumes_model']/comp_volumes_dist['volumes_model'].sum()\n",
    "if var['calibration']['survey_comparison']:\n",
    "    to_plot = comp_volumes_dist[['volumes_model', 'volumes_calibration']]#.plot( kind = 'bar', figsize=[10, 10])\n",
    "else:\n",
    "    to_plot = comp_volumes_dist[['volumes_model']]#.plot( kind = 'bar', figsize=[10, 10])\n",
    "\n",
    "ax =  to_plot.plot.bar(figsize=[10, 10])\n",
    "plt.ylabel('Volume', fontsize=14)\n",
    "plt.xlabel('Classes de distance', fontsize=14)\n",
    "plt.title('Classes de distance ', loc='center', fontsize=16, fontweight=\"bold\")\n",
    "plt.legend( ['Modèle', 'Calibration'])\n",
    "fig = ax.get_figure()\n",
    "plt.savefig(output_folder+'06_Comparaison_volumes_distances.png',bbox_inches='tight', dpi=150)"
   ]
  },
  {
   "cell_type": "code",
   "execution_count": 193,
   "metadata": {},
   "outputs": [],
   "source": [
    "if calib_file_provided and var['calibration']['survey_comparison'] :    \n",
    "    comp_volumes_dist = comp_volumes_dist[['volumes_model', 'volumes_calibration']]\n",
    "    comp_volumes_dist['delta'] = comp_volumes_dist['volumes_calibration'].fillna(0) - comp_volumes_dist['volumes_model'].fillna(0)\n",
    "    comp_volumes_dist ['earth'] = comp_volumes_dist['delta'].cumsum()\n",
    "    to_plot = comp_volumes_dist#.plot( kind = 'bar', figsize=[10, 10])\n",
    "    ax =  to_plot.plot.bar(figsize=[10, 10])\n",
    "    plt.ylabel('Volume', fontsize=14)\n",
    "    plt.xlabel('Classes de distance', fontsize=14)\n",
    "    plt.title('Classes de distance ', loc='center', fontsize=16, fontweight=\"bold\")\n",
    "    plt.legend( ['Modèle', 'Calibration', 'Delta', 'Earth'])\n",
    "    fig = ax.get_figure()\n",
    "    plt.savefig(output_folder+'07_Comparaison_volumes_distances_earth.png',bbox_inches='tight', dpi=150)"
   ]
  },
  {
   "cell_type": "code",
   "execution_count": 194,
   "metadata": {},
   "outputs": [
    {
     "ename": "NameError",
     "evalue": "name 'end_of_notebook' is not defined",
     "output_type": "error",
     "traceback": [
      "\u001b[0;31m---------------------------------------------------------------------------\u001b[0m",
      "\u001b[0;31mNameError\u001b[0m                                 Traceback (most recent call last)",
      "Cell \u001b[0;32mIn[194], line 1\u001b[0m\n\u001b[0;32m----> 1\u001b[0m \u001b[43mend_of_notebook\u001b[49m\n",
      "\u001b[0;31mNameError\u001b[0m: name 'end_of_notebook' is not defined"
     ]
    }
   ],
   "source": [
    "end_of_notebook"
   ]
  }
 ],
 "metadata": {
  "kernelspec": {
   "display_name": "quetzal_env",
   "language": "python",
   "name": "quetzal_env"
  },
  "language_info": {
   "codemirror_mode": {
    "name": "ipython",
    "version": 3
   },
   "file_extension": ".py",
   "mimetype": "text/x-python",
   "name": "python",
   "nbconvert_exporter": "python",
   "pygments_lexer": "ipython3",
   "version": "3.8.19"
  }
 },
 "nbformat": 4,
 "nbformat_minor": 2
}
