{
 "cells": [
  {
   "cell_type": "code",
   "execution_count": 32,
   "id": "83205d6e",
   "metadata": {},
   "outputs": [],
   "source": [
    "import sys # for automation and parallelization: set manual to false when run by a launcher\n",
    "import json\n",
    " \n",
    "default = {'scenario': 'port-moresby', 'training_folder':'../..'} # Default execution parameters\n",
    "manual, argv = (True, default) if 'ipykernel' in sys.argv[0] else (False, dict(default, **json.loads(sys.argv[1])))\n"
   ]
  },
  {
   "cell_type": "code",
   "execution_count": 33,
   "id": "3a52d442",
   "metadata": {},
   "outputs": [
    {
     "name": "stdout",
     "output_type": "stream",
     "text": [
      "num cores: 8\n"
     ]
    }
   ],
   "source": [
    "import os\n",
    "import time\n",
    "import geopandas as gpd\n",
    "import pandas as pd\n",
    "import matplotlib.pyplot as plt\n",
    "import numpy as np\n",
    "import math\n",
    "sys.path.insert(0, r'../../../quetzal') # Add path to quetzal\n",
    "from sklearn.neighbors import NearestNeighbors\n",
    "from numba import jit, njit\n",
    "import numba as nb\n",
    "from quetzal.model import stepmodel\n",
    "from shapely.geometry import LineString\n",
    "from quetzal.io.gtfs_reader.importer import get_epsg\n",
    "from quetzal.io import excel\n",
    "on_lambda = bool(os.environ.get('AWS_EXECUTION_ENV'))\n",
    "num_cores = nb.config.NUMBA_NUM_THREADS\n",
    "print('num cores:',num_cores)\n",
    "from syspy.spatial import spatial, utils\n",
    "io_engine= 'pyogrio' if on_lambda else 'pyogrio' #or fiona"
   ]
  },
  {
   "cell_type": "code",
   "execution_count": 34,
   "id": "2b93e63b",
   "metadata": {
    "scrolled": false
   },
   "outputs": [
    {
     "name": "stdout",
     "output_type": "stream",
     "text": [
      "On Lambda :  False\n",
      "input folder:  ../../inputs/\n",
      "output folder:  ../../scenarios/port-moresby/outputs/\n",
      "scen folder :  ../../scenarios/port-moresby/inputs/\n",
      "model folder :  ../../scenarios/port-moresby/model/\n"
     ]
    }
   ],
   "source": [
    "scenario = argv['scenario']\n",
    "\n",
    "on_lambda = bool(os.environ.get('AWS_EXECUTION_ENV'))\n",
    "print('On Lambda : ', on_lambda)\n",
    "\n",
    "training_folder = argv['training_folder']\n",
    "input_folder = training_folder +r'/inputs/'\n",
    "\n",
    "if not on_lambda:\n",
    "    scenario_folder = training_folder + '/scenarios/' + scenario  + '/inputs/'\n",
    "    output_folder = training_folder + '/scenarios/' + scenario + '/outputs/'\n",
    "    model_folder = training_folder + '/scenarios/' + scenario  + '/model/'\n",
    "else:\n",
    "    scenario_folder = input_folder\n",
    "    output_folder = training_folder + '/outputs/'\n",
    "    model_folder = training_folder + '/model/'\n",
    "print('input folder: ', input_folder)\n",
    "print('output folder: ', output_folder)\n",
    "print('scen folder : ', scenario_folder)\n",
    "print('model folder : ', model_folder)"
   ]
  },
  {
   "cell_type": "code",
   "execution_count": 35,
   "id": "c2418c55",
   "metadata": {},
   "outputs": [],
   "source": [
    "if 'params' in argv.keys():\n",
    "    scenario = argv['params']['general']['scenario'] #'params':{'general':{'scenario':'ref2023'}}\n",
    "    var = excel.read_var(file=input_folder+'parameters.xlsx', scenario=scenario, return_ancestry=False)\n",
    "    var.update(pd.DataFrame.from_dict(argv['params'], orient=\"index\").stack())\n",
    "else:\n",
    "    var = excel.read_var(file=input_folder+'parameters.xlsx', scenario=scenario, return_ancestry=False)"
   ]
  },
  {
   "cell_type": "code",
   "execution_count": 36,
   "id": "0b16019a",
   "metadata": {},
   "outputs": [],
   "source": [
    "def round_up(n, decimals=0):\n",
    "    multiplier = 10**decimals\n",
    "    return math.ceil(n * multiplier) / multiplier"
   ]
  },
  {
   "cell_type": "markdown",
   "id": "95a65cd0",
   "metadata": {},
   "source": [
    "# inputs"
   ]
  },
  {
   "cell_type": "code",
   "execution_count": 37,
   "id": "b1534881",
   "metadata": {},
   "outputs": [
    {
     "name": "stderr",
     "output_type": "stream",
     "text": [
      "loaded_links: 100%|██████████| 40/40 [00:00<00:00, 81.01it/s]    \n"
     ]
    }
   ],
   "source": [
    "sm = stepmodel.read_zippedpickles(model_folder +'logit_assignment')\n",
    "sm.segments = ['car_owner', 'pt_captive'] "
   ]
  },
  {
   "cell_type": "code",
   "execution_count": 38,
   "id": "3f383118",
   "metadata": {},
   "outputs": [
    {
     "name": "stderr",
     "output_type": "stream",
     "text": [
      "Reprojecting model from epsg 32755 to epsg 4326: 100%|██████████| 40/40 [00:01<00:00, 36.54it/s]\n"
     ]
    }
   ],
   "source": [
    "sm = sm.change_epsg(4326,'degree')"
   ]
  },
  {
   "cell_type": "markdown",
   "id": "a2d6db52",
   "metadata": {},
   "source": [
    "# emission / attraction"
   ]
  },
  {
   "cell_type": "code",
   "execution_count": 39,
   "id": "b909b7cd",
   "metadata": {},
   "outputs": [],
   "source": [
    "df = sm.zones_poly[['geometry']].copy()"
   ]
  },
  {
   "cell_type": "code",
   "execution_count": 40,
   "id": "d514dd56",
   "metadata": {},
   "outputs": [],
   "source": [
    "emission = sm.volumes.groupby('origin').agg(sum)\n",
    "emission.columns =  'emission_' + emission.columns\n",
    "\n",
    "attraction = sm.volumes.groupby('destination').agg(sum)\n",
    "attraction.columns =  'attraction_' + attraction.columns"
   ]
  },
  {
   "cell_type": "code",
   "execution_count": 41,
   "id": "3b225e61",
   "metadata": {},
   "outputs": [],
   "source": [
    "df = df.merge(emission,left_index=True,right_index=True)\n",
    "df = df.merge(attraction,left_index=True,right_index=True)"
   ]
  },
  {
   "cell_type": "code",
   "execution_count": 42,
   "id": "83403fff",
   "metadata": {},
   "outputs": [],
   "source": [
    "df.to_file(os.path.join(output_folder,'volumes.geojson'), driver='GeoJSON')"
   ]
  },
  {
   "cell_type": "markdown",
   "id": "a8658747",
   "metadata": {},
   "source": [
    "# serpents de charge"
   ]
  },
  {
   "cell_type": "code",
   "execution_count": 43,
   "id": "d2a476ea",
   "metadata": {},
   "outputs": [],
   "source": [
    "gpd.GeoDataFrame(sm.nodes,crs=sm.epsg).to_crs(4326).to_file(os.path.join(output_folder,'loaded_nodes.geojson'), driver='GeoJSON')"
   ]
  },
  {
   "cell_type": "code",
   "execution_count": 44,
   "id": "ddac8864",
   "metadata": {},
   "outputs": [],
   "source": [
    "gpd.GeoDataFrame(sm.links.drop('road_link_list', axis=1, errors='ignore'),crs=sm.epsg).to_file(os.path.join(output_folder,'loaded_links.geojson'), driver='GeoJSON')"
   ]
  },
  {
   "cell_type": "markdown",
   "id": "0dd7022a",
   "metadata": {},
   "source": [
    "# boardings"
   ]
  },
  {
   "cell_type": "code",
   "execution_count": 45,
   "id": "9ecafbec",
   "metadata": {},
   "outputs": [],
   "source": [
    "pd.DataFrame(sm.links.groupby(['route_type'])['boardings'].sum()).to_csv(os.path.join(output_folder,'boardings_route_type.csv'))"
   ]
  },
  {
   "cell_type": "code",
   "execution_count": 46,
   "id": "791881d7",
   "metadata": {},
   "outputs": [],
   "source": [
    "pd.DataFrame(sm.links.groupby(['agency_id'])['boardings'].sum()).to_csv(os.path.join(output_folder,'boardings_agency.csv'))"
   ]
  },
  {
   "cell_type": "code",
   "execution_count": 47,
   "id": "ddc69483",
   "metadata": {},
   "outputs": [],
   "source": [
    "pd.DataFrame(sm.links.groupby('route_id')['boardings'].sum()).to_csv(os.path.join(output_folder,'boardings_route_id.csv'))"
   ]
  },
  {
   "cell_type": "code",
   "execution_count": 48,
   "id": "abc44585",
   "metadata": {},
   "outputs": [],
   "source": [
    "pd.DataFrame(sm.links.loc[sm.links['agency_id'] == 'QUENEDI'].groupby('route_id')['boardings'].sum()).to_csv(os.path.join(output_folder,'boardings_quenedi.csv'))"
   ]
  },
  {
   "cell_type": "markdown",
   "id": "b2c254ca",
   "metadata": {},
   "source": [
    "# Path"
   ]
  },
  {
   "cell_type": "code",
   "execution_count": 49,
   "id": "28566830",
   "metadata": {},
   "outputs": [],
   "source": [
    "od_file = scenario_folder + 'od/od.geojson'\n",
    "od_file_provided = os.path.isfile(od_file)\n",
    "if od_file_provided:\n",
    "    od_test = gpd.read_file(od_file)\n",
    "    from shapely.geometry import Point\n",
    "    from syspy.spatial.spatial import nearest\n",
    "    od_test['geometry_o'] = od_test['geometry'].apply(lambda g: Point(g.coords[:][0]))\n",
    "    od_test['geometry_d'] = od_test['geometry'].apply(lambda g: Point(g.coords[:][1]))\n",
    "    # find nearest node with KNN. nodes are now the origin and destination.\n",
    "    od_test['geometry'] = od_test['geometry_o']\n",
    "    neigh = nearest(od_test, sm.zones.to_crs(4326), n_neighbors=1).rename(columns={'ix_one': 'zone_index', 'ix_many': 'node_index'})\n",
    "    zone_node_dict = neigh.set_index('zone_index')['node_index'].to_dict()\n",
    "    od_test['origin'] = od_test.index.map(zone_node_dict.get)\n",
    "\n",
    "    od_test['geometry'] = od_test['geometry_d']\n",
    "    neigh = nearest(od_test, sm.zones.to_crs(4326), n_neighbors=1).rename(columns={'ix_one': 'zone_index', 'ix_many': 'node_index'})\n",
    "    zone_node_dict = neigh.set_index('zone_index')['node_index'].to_dict()\n",
    "    od_test['destination'] = od_test.index.map(zone_node_dict.get)\n",
    "\n",
    "    od_test = od_test.drop(columns=['geometry_o','geometry_d','geometry'])\n",
    "    od_test = od_test.drop(columns=['index'])\n",
    "else:\n",
    "    end_of_notebook"
   ]
  },
  {
   "cell_type": "code",
   "execution_count": 50,
   "id": "49d91cac",
   "metadata": {},
   "outputs": [],
   "source": [
    "#only keep best path\n",
    "sm.pt_los = sm.pt_los[sm.pt_los['pathfinder_session'] == 'best_path']"
   ]
  },
  {
   "cell_type": "code",
   "execution_count": 51,
   "id": "9ed60a3e",
   "metadata": {},
   "outputs": [],
   "source": [
    "if 'speed' not in sm.links.columns:\n",
    "    sm.links['speed'] = sm.links['length']/sm.links['time']*3.6"
   ]
  },
  {
   "cell_type": "code",
   "execution_count": 52,
   "id": "6bd59375",
   "metadata": {},
   "outputs": [],
   "source": [
    "#PT links\n",
    "od_links = od_test.merge(sm.pt_los[['origin','destination','gtime','link_path','pathfinder_session']],\n",
    "                         on=['origin','destination'])\n",
    "od_links = od_links.drop(columns = ['origin','destination'])\n",
    "od_links = od_links.explode('link_path')\n",
    "od_links = od_links.merge(sm.links[['route_color','geometry','time','speed']],left_on='link_path',right_index=True)\n",
    "od_links = od_links.drop(columns='link_path')"
   ]
  },
  {
   "cell_type": "code",
   "execution_count": 53,
   "id": "3edfcc45",
   "metadata": {},
   "outputs": [],
   "source": [
    "#ntlegs\n",
    "od_ntlegs = od_test.merge(sm.pt_los[['origin','destination','gtime','ntlegs','pathfinder_session']],\n",
    "                          on=['origin','destination'])\n",
    "od_ntlegs = od_ntlegs.drop(columns = ['origin','destination'])\n",
    "od_ntlegs = od_ntlegs.explode('ntlegs')\n",
    "ntlegs_dict = sm.zone_to_transit.reset_index().set_index(['a','b'])['index'].to_dict()\n",
    "od_ntlegs['ntlegs'] = od_ntlegs['ntlegs'].apply(ntlegs_dict.get)\n",
    "od_ntlegs = od_ntlegs.merge(sm.zone_to_transit[['geometry','time','speed']],left_on='ntlegs',right_index=True)\n",
    "od_ntlegs = od_ntlegs.drop(columns='ntlegs')"
   ]
  },
  {
   "cell_type": "code",
   "execution_count": 54,
   "id": "c781b0cb",
   "metadata": {},
   "outputs": [],
   "source": [
    "sm.footpaths['speed'] = sm.footpaths['length']/sm.footpaths['time']*3.6"
   ]
  },
  {
   "cell_type": "code",
   "execution_count": 55,
   "id": "4c5f0dee",
   "metadata": {
    "scrolled": true
   },
   "outputs": [],
   "source": [
    "#footpath\n",
    "od_footpaths = od_test.merge(sm.pt_los[['origin','destination','gtime','footpaths','pathfinder_session']], \n",
    "                             on=['origin','destination'])\n",
    "od_footpaths = od_footpaths.drop(columns = ['origin','destination'])\n",
    "od_footpaths = od_footpaths.explode('footpaths')\n",
    "footpaths_dict = sm.footpaths.reset_index().set_index(['a','b'])['index'].to_dict()\n",
    "od_footpaths['footpaths'] = od_footpaths['footpaths'].apply(footpaths_dict.get)\n",
    "od_footpaths = od_footpaths.merge(sm.footpaths[['geometry','time','speed']],left_on='footpaths',right_index=True)\n",
    "od_footpaths = od_footpaths.drop(columns='footpaths')"
   ]
  },
  {
   "cell_type": "code",
   "execution_count": 56,
   "id": "c24a1827",
   "metadata": {},
   "outputs": [],
   "source": [
    "# raod links (walk on road)\n",
    "od_road = od_test.merge(sm.pt_los[['origin','destination','gtime','footpaths','pathfinder_session']], \n",
    "                             on=['origin','destination'])\n",
    "od_road = od_road.drop(columns = ['origin','destination'])\n",
    "od_road = od_road.explode('footpaths')\n",
    "sm.road_links['index'] = sm.road_links.index\n",
    "road_dict = sm.road_links.set_index(['a','b'])['index'].to_dict()\n",
    "od_road['footpaths'] = od_road['footpaths'].apply(road_dict.get)\n",
    "od_road = od_road.merge(sm.road_links[['geometry','time','speed']],left_on='footpaths',right_index=True)\n",
    "od_road = od_road.drop(columns='footpaths')"
   ]
  },
  {
   "cell_type": "code",
   "execution_count": 57,
   "id": "5b9e7442",
   "metadata": {},
   "outputs": [],
   "source": [
    "#road to transit\n",
    "od_rt = od_test.merge(sm.pt_los[['origin','destination','gtime','footpaths','pathfinder_session']], \n",
    "                             on=['origin','destination'])\n",
    "od_rt = od_rt.drop(columns = ['origin','destination'])\n",
    "od_rt = od_rt.explode('footpaths')\n",
    "road_dict = sm.road_to_transit.reset_index().set_index(['a','b'])['index'].to_dict()\n",
    "od_rt['footpaths'] = od_rt['footpaths'].apply(road_dict.get)\n",
    "od_rt = od_rt.merge(sm.road_to_transit[['geometry','time','speed']],left_on='footpaths',right_index=True)\n",
    "od_rt = od_rt.drop(columns='footpaths')"
   ]
  },
  {
   "cell_type": "code",
   "execution_count": 58,
   "id": "a094a6c1",
   "metadata": {},
   "outputs": [],
   "source": [
    "od_route = pd.concat([od_links,od_footpaths,od_ntlegs,od_road,od_rt],axis=0)"
   ]
  },
  {
   "cell_type": "code",
   "execution_count": 59,
   "id": "5e53e74a",
   "metadata": {},
   "outputs": [],
   "source": [
    "od_route['route_color'] = od_route['route_color'].fillna('838383')\n",
    "od_route['route_color'] = '#' + od_route['route_color']"
   ]
  },
  {
   "cell_type": "code",
   "execution_count": 60,
   "id": "b94c9f91",
   "metadata": {},
   "outputs": [],
   "source": [
    "od_route = od_route.rename(columns={'name':'od_name'})\n",
    "od_route.reset_index(drop=True)\n",
    "od_route.index.name='index'"
   ]
  },
  {
   "cell_type": "code",
   "execution_count": 61,
   "id": "c216a7a8",
   "metadata": {},
   "outputs": [],
   "source": [
    "od_route = gpd.GeoDataFrame(od_route,crs=4326)\n",
    "od_route.to_file(output_folder+'od_route.geojson',driver='GeoJSON',engine=io_engine)"
   ]
  },
  {
   "cell_type": "code",
   "execution_count": 62,
   "id": "3b94f1c3",
   "metadata": {},
   "outputs": [
    {
     "ename": "NameError",
     "evalue": "name 'end_of_notebook' is not defined",
     "output_type": "error",
     "traceback": [
      "\u001b[0;31m---------------------------------------------------------------------------\u001b[0m",
      "\u001b[0;31mNameError\u001b[0m                                 Traceback (most recent call last)",
      "Cell \u001b[0;32mIn[62], line 1\u001b[0m\n\u001b[0;32m----> 1\u001b[0m \u001b[43mend_of_notebook\u001b[49m\n",
      "\u001b[0;31mNameError\u001b[0m: name 'end_of_notebook' is not defined"
     ]
    }
   ],
   "source": [
    "end_of_notebook"
   ]
  }
 ],
 "metadata": {
  "kernelspec": {
   "display_name": "quetzal_env",
   "language": "python",
   "name": "quetzal_env"
  },
  "language_info": {
   "codemirror_mode": {
    "name": "ipython",
    "version": 3
   },
   "file_extension": ".py",
   "mimetype": "text/x-python",
   "name": "python",
   "nbconvert_exporter": "python",
   "pygments_lexer": "ipython3",
   "version": "3.8.19"
  }
 },
 "nbformat": 4,
 "nbformat_minor": 5
}
