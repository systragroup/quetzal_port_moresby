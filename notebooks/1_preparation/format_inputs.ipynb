{
 "cells": [
  {
   "cell_type": "code",
   "execution_count": 15,
   "id": "190c72ea",
   "metadata": {},
   "outputs": [],
   "source": [
    "import sys # for automation and parallelization: set manual to false when run by a launcher\n",
    "import json\n",
    " \n",
    "default = {'scenario': 'houston','training_folder':'../..'} # Default execution parameters\n",
    "manual, argv = (True, default) if 'ipykernel' in sys.argv[0] else (False, dict(default, **json.loads(sys.argv[1])))\n"
   ]
  },
  {
   "cell_type": "code",
   "execution_count": 16,
   "id": "dde0ed6f",
   "metadata": {},
   "outputs": [],
   "source": [
    "import os\n",
    "import time\n",
    "import geopandas as gpd\n",
    "import pandas as pd\n",
    "sys.path.insert(0, r'../../../quetzal') # Add path to quetzal\n",
    "import numpy as np\n",
    "from typing import Literal\n",
    "\n",
    "on_lambda = bool(os.environ.get('AWS_EXECUTION_ENV'))\n",
    "io_engine = 'pyogrio' if on_lambda else 'pyogrio' #or fiona"
   ]
  },
  {
   "cell_type": "code",
   "execution_count": 17,
   "id": "cad3d91e",
   "metadata": {},
   "outputs": [
    {
     "name": "stdout",
     "output_type": "stream",
     "text": [
      "On Lambda :  False\n",
      "input folder:  ../../inputs/\n",
      "output folder:  ../../scenarios/houston/outputs/\n",
      "scen folder :  ../../scenarios/houston/inputs/\n",
      "model folder :  ../../scenarios/houston/model/\n"
     ]
    }
   ],
   "source": [
    "\n",
    "scenario = argv['scenario']\n",
    "\n",
    "on_lambda = bool(os.environ.get('AWS_EXECUTION_ENV'))\n",
    "print('On Lambda : ', on_lambda)\n",
    "\n",
    "training_folder = argv['training_folder']\n",
    "input_folder = training_folder +r'/inputs/'\n",
    "\n",
    "if not on_lambda:\n",
    "    scenario_folder = training_folder + '/scenarios/' + scenario + '/inputs/'\n",
    "    output_folder = training_folder + '/scenarios/' + scenario + '/outputs/'\n",
    "    model_folder = training_folder + '/scenarios/' + scenario + '/model/'\n",
    "else:\n",
    "    scenario_folder = input_folder\n",
    "    output_folder = training_folder + '/outputs/'\n",
    "    model_folder = training_folder + '/model/'\n",
    "print('input folder: ', input_folder)\n",
    "print('output folder: ', output_folder)\n",
    "print('scen folder : ', scenario_folder)\n",
    "print('model folder : ', model_folder)"
   ]
  },
  {
   "cell_type": "code",
   "execution_count": 18,
   "id": "a69e0604",
   "metadata": {},
   "outputs": [
    {
     "data": {
      "text/plain": [
       "'../..'"
      ]
     },
     "execution_count": 18,
     "metadata": {},
     "output_type": "execute_result"
    }
   ],
   "source": [
    "training_folder"
   ]
  },
  {
   "cell_type": "markdown",
   "id": "b637f38f",
   "metadata": {},
   "source": [
    "# format zones"
   ]
  },
  {
   "cell_type": "code",
   "execution_count": 19,
   "id": "a3d7a646",
   "metadata": {},
   "outputs": [],
   "source": [
    "zones = gpd.read_file(input_folder + 'zones/{}.geojson'.format(scenario), engine=io_engine) .to_crs(4326)\n",
    "zones = zones.set_index('OBJECTID')\n",
    "zones.index = 'zone_bc_' + zones.index.astype(str)\n",
    "zones.index.name = 'index'\n",
    "\n",
    "tmp_zones = zones[['pop_dens', 'pop_total','emp_total', 'geometry', 'NAME']].rename(columns={'pop_dens': 'density','pop_total':'population', 'emp_total': 'jobs' })"
   ]
  },
  {
   "cell_type": "code",
   "execution_count": 20,
   "id": "b490a7e1",
   "metadata": {},
   "outputs": [],
   "source": [
    "output_folder = training_folder+'/scenarios/{scen}/inputs/'.format(scen = scenario)\n",
    "try:\n",
    "            os.makedirs(output_folder)\n",
    "except FileExistsError:\n",
    "            pass\n",
    "\n",
    "tmp_zones.to_file(output_folder + 'zones.geojson',driver='GeoJSON')"
   ]
  },
  {
   "cell_type": "code",
   "execution_count": 21,
   "id": "56757ba0",
   "metadata": {},
   "outputs": [],
   "source": [
    "# Peut être verification à faire"
   ]
  },
  {
   "cell_type": "markdown",
   "id": "cc6c2e78",
   "metadata": {},
   "source": [
    "# find meters CRS\n",
    "from shapely.geometry import Point, LineString\n",
    "# from quetzal_cyclops\n",
    "def get_epsg(lat: float, lon: float) -> int:\n",
    "    '''\n",
    "    lat, lon or y, x\n",
    "    return EPSG in meter for a given (lat,lon)\n",
    "    lat is north south \n",
    "    lon is est west\n",
    "    '''\n",
    "    return int(32700 - round((45 + lat) / 90, 0) * 100 + round((183 + lon) / 6, 0))\n",
    "\n",
    "centroid = [*LineString(zones.centroid.values).centroid.coords][0]\n",
    "crs = get_epsg(centroid[1],centroid[0])\n",
    "crs"
   ]
  },
  {
   "cell_type": "markdown",
   "id": "1d302b2d",
   "metadata": {},
   "source": [
    "zones['area (km2)'] = zones.to_crs(crs).area\n",
    "zones['area (km2)'].sum()"
   ]
  }
 ],
 "metadata": {
  "kernelspec": {
   "display_name": "quetzal_env",
   "language": "python",
   "name": "python3"
  },
  "language_info": {
   "codemirror_mode": {
    "name": "ipython",
    "version": 3
   },
   "file_extension": ".py",
   "mimetype": "text/x-python",
   "name": "python",
   "nbconvert_exporter": "python",
   "pygments_lexer": "ipython3",
   "version": "3.8.19"
  }
 },
 "nbformat": 4,
 "nbformat_minor": 5
}
